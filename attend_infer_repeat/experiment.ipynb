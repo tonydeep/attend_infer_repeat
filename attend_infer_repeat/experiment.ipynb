{
 "cells": [
  {
   "cell_type": "code",
   "execution_count": null,
   "metadata": {
    "collapsed": true
   },
   "outputs": [],
   "source": [
    "from os import path as osp\n",
    "import tensorflow as tf\n",
    "\n",
    "from evaluation import ProgressFig, make_logger\n",
    "from experiment_tools import load, init_checkpoint, parse_flags, print_flags, set_flags_if_notebook\n",
    "\n",
    "import matplotlib.pyplot as plt\n",
    "% matplotlib inline"
   ]
  },
  {
   "cell_type": "code",
   "execution_count": null,
   "metadata": {
    "collapsed": true
   },
   "outputs": [],
   "source": [
    "import sys\n",
    "sys.path.append('../')"
   ]
  },
  {
   "cell_type": "code",
   "execution_count": null,
   "metadata": {
    "collapsed": true
   },
   "outputs": [],
   "source": [
    "# Define flags\n",
    "flags = tf.flags\n",
    "\n",
    "flags.DEFINE_string('data_config', 'configs/seq_mnist_data.py', '')\n",
    "flags.DEFINE_string('model_config', 'configs/seq_vimco.py', '')\n",
    "flags.DEFINE_string('results_dir', '../checkpoints', '')\n",
    "flags.DEFINE_string('run_name', 'test_run', '')\n",
    "\n",
    "flags.DEFINE_integer('batch_size', 64, '')\n",
    "\n",
    "flags.DEFINE_integer('summary_every', 1000, '')\n",
    "flags.DEFINE_integer('log_every', 5000, '')\n",
    "flags.DEFINE_integer('save_every', 5000, '')\n",
    "flags.DEFINE_integer('max_train_iter', int(3 * 1e5), '')\n",
    "flags.DEFINE_boolean('restart', False, '')\n",
    "\n",
    "flags.DEFINE_float('eval_size_fraction', .01, '')"
   ]
  },
  {
   "cell_type": "code",
   "execution_count": null,
   "metadata": {},
   "outputs": [],
   "source": [
    "\n",
    "set_flags_if_notebook(\n",
    "    seq_len=3,\n",
    "    n_steps_per_image=4,\n",
    "    n_iw_samples=5,\n",
    "#     \n",
    "    log_every=100,\n",
    "    eval_size_fraction=0.01,\n",
    "#     \n",
    "    learning_rate=1e-5,\n",
    "    importance_resample=False,\n",
    "#     \n",
    "    condition_on_latents=True,\n",
    "    transition='VanillaRNN'\n",
    ")\n",
    "\n",
    "# Parse flags\n",
    "parse_flags()\n",
    "F = flags.FLAGS"
   ]
  },
  {
   "cell_type": "code",
   "execution_count": null,
   "metadata": {},
   "outputs": [],
   "source": [
    "# Prepare enviornment\n",
    "logdir = osp.join(F.results_dir, F.run_name)\n",
    "logdir, flags, restart_checkpoint = init_checkpoint(logdir, F.data_config, F.model_config, F.restart)\n",
    "checkpoint_name = osp.join(logdir, 'model.ckpt')"
   ]
  },
  {
   "cell_type": "code",
   "execution_count": null,
   "metadata": {
    "scrolled": false
   },
   "outputs": [],
   "source": [
    "# Build the graph\n",
    "tf.reset_default_graph()\n",
    "data_dict = load(F.data_config, F.batch_size)\n",
    "air, train_step, global_step = load(F.model_config, img=data_dict.train_img, num=data_dict.train_num)\n",
    "\n",
    "print_flags()"
   ]
  },
  {
   "cell_type": "code",
   "execution_count": null,
   "metadata": {
    "collapsed": true
   },
   "outputs": [],
   "source": [
    "config = tf.ConfigProto()\n",
    "config.gpu_options.allow_growth = True\n",
    "sess = tf.Session(config=config)"
   ]
  },
  {
   "cell_type": "code",
   "execution_count": null,
   "metadata": {
    "collapsed": true
   },
   "outputs": [],
   "source": [
    "sess.run(tf.global_variables_initializer())"
   ]
  },
  {
   "cell_type": "code",
   "execution_count": null,
   "metadata": {
    "collapsed": true
   },
   "outputs": [],
   "source": [
    "saver = tf.train.Saver()\n",
    "if restart_checkpoint is not None:\n",
    "    print \"Restoring from '{}'\",format(restart_checkpoint)\n",
    "    saver.restore(sess, restart_checkpoint)"
   ]
  },
  {
   "cell_type": "code",
   "execution_count": null,
   "metadata": {
    "collapsed": true
   },
   "outputs": [],
   "source": [
    "summary_writer = tf.summary.FileWriter(logdir, sess.graph)\n",
    "all_summaries = tf.summary.merge_all()"
   ]
  },
  {
   "cell_type": "code",
   "execution_count": null,
   "metadata": {
    "scrolled": false
   },
   "outputs": [],
   "source": [
    "# Logging\n",
    "ax = data_dict['axes']['imgs']\n",
    "factor = F.eval_size_fraction\n",
    "train_batches, valid_batches = [int(data_dict[k]['imgs'].shape[ax] * factor) for k in ('train_data', 'valid_data')]\n",
    "log = make_logger(air, sess, summary_writer, data_dict.train_tensors,\n",
    "                  train_batches, data_dict.valid_tensors, valid_batches)\n",
    "\n",
    "progress_fig = ProgressFig(air, sess, logdir)"
   ]
  },
  {
   "cell_type": "code",
   "execution_count": null,
   "metadata": {
    "scrolled": true
   },
   "outputs": [],
   "source": [
    "train_itr = sess.run(global_step)\n",
    "print 'Starting training at iter = {}'.format(train_itr)\n",
    "\n",
    "if train_itr == 0:\n",
    "    log(0)\n",
    "\n",
    "while train_itr < F.max_train_iter:\n",
    "\n",
    "    train_itr, _ = sess.run([global_step, train_step])\n",
    "\n",
    "    if train_itr % F.summary_every == 0:\n",
    "        summaries = sess.run(all_summaries)\n",
    "        summary_writer.add_summary(summaries, train_itr)\n",
    "\n",
    "    if train_itr % F.log_every == 0:\n",
    "        log(train_itr)\n",
    "\n",
    "    if train_itr % F.save_every == 0:\n",
    "        saver.save(sess, checkpoint_name, global_step=train_itr)\n",
    "        progress_fig.plot_still(train_itr)\n",
    "        progress_fig.plot_seq(train_itr)"
   ]
  },
  {
   "cell_type": "code",
   "execution_count": null,
   "metadata": {},
   "outputs": [],
   "source": [
    "progress_fig.plot_seq(save=False)"
   ]
  },
  {
   "cell_type": "code",
   "execution_count": null,
   "metadata": {},
   "outputs": [],
   "source": [
    "progress_fig.plot_still(save=False)"
   ]
  }
 ],
 "metadata": {
  "anaconda-cloud": {},
  "kernelspec": {
   "display_name": "Python [default]",
   "language": "python",
   "name": "python2"
  },
  "language_info": {
   "codemirror_mode": {
    "name": "ipython",
    "version": 2
   },
   "file_extension": ".py",
   "mimetype": "text/x-python",
   "name": "python",
   "nbconvert_exporter": "python",
   "pygments_lexer": "ipython2",
   "version": "2.7.12"
  }
 },
 "nbformat": 4,
 "nbformat_minor": 1
}
